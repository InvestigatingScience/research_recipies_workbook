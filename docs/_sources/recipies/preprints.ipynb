{
 "cells": [
  {
   "cell_type": "markdown",
   "metadata": {},
   "source": [
    "# Preprint Analysis\n",
    "## How to get all preprints of a topics?\n",
    "\n",
    "We use [OpenAlex](https://openalex.org) to retrieve all articles which are a preprint, but have so far not been published by a peer-reviewed journal."
   ]
  },
  {
   "cell_type": "markdown",
   "metadata": {},
   "source": [
    "## 1. Load libraries"
   ]
  },
  {
   "cell_type": "code",
   "execution_count": null,
   "metadata": {},
   "outputs": [],
   "source": [
    "!pip install pandas\n",
    "!pip install pyalex"
   ]
  },
  {
   "cell_type": "code",
   "execution_count": null,
   "metadata": {},
   "outputs": [],
   "source": [
    "from pyalex import Works, Authors, Sources, Institutions, Concepts, Publishers, Funders\n",
    "from itertools import chain\n",
    "import pandas as pd\n",
    "import pyalex\n",
    "import os"
   ]
  },
  {
   "cell_type": "markdown",
   "metadata": {},
   "source": [
    "## 1. Define helper functions"
   ]
  },
  {
   "cell_type": "code",
   "execution_count": null,
   "metadata": {},
   "outputs": [],
   "source": [
    "# Determine if any of the locations (journals) the paper is already published\n",
    "def is_any_location_published(locations):\n",
    "    for location in locations:\n",
    "        if location['version'] == 'publishedVersion':\n",
    "            return True\n",
    "    return False"
   ]
  },
  {
   "cell_type": "code",
   "execution_count": null,
   "metadata": {},
   "outputs": [],
   "source": [
    "# Combine all authos\n",
    "def join_authors(list_of_authors):\n",
    "    return ', '.join([author['author']['display_name'] for author in list_of_authors])"
   ]
  },
  {
   "cell_type": "code",
   "execution_count": null,
   "metadata": {},
   "outputs": [],
   "source": [
    "# Extract key information from the locations\n",
    "def join_locations(list_of_locations):\n",
    "    summary = []\n",
    "    for location in list_of_locations:\n",
    "        if location['source']:\n",
    "            summary.append(f\"{location['version']}: {location['source']['host_organization_name']} - {location['landing_page_url']}\")\n",
    "        else:\n",
    "            summary.append(f\"{location['version']} - {location['landing_page_url']}\")\n",
    "    return ', '.join(summary)"
   ]
  },
  {
   "cell_type": "markdown",
   "metadata": {},
   "source": [
    "## 2. Set the Topic & Year\n",
    "\n",
    "Set the year and the number of papers you want to obtain"
   ]
  },
  {
   "cell_type": "code",
   "execution_count": null,
   "metadata": {},
   "outputs": [],
   "source": [
    "# Variables reduce the size of the output and the time required for execution\n",
    "topic = 'COVID'\n",
    "year = 2023\n",
    "n_max = 500        # when set to None all papers are queried"
   ]
  },
  {
   "cell_type": "markdown",
   "metadata": {},
   "source": [
    "## 3. Get the preprints\n",
    "\n",
    "Run te following code to get the preprints for the specified parameters"
   ]
  },
  {
   "cell_type": "code",
   "execution_count": null,
   "metadata": {},
   "outputs": [],
   "source": [
    "query = Works().search(topic).filter(type=\"article\", publication_year=year, primary_location={'version': 'submittedVersion'}, locations={'is_published': False}).sort(cited_by_count=\"desc\")\n",
    "\n",
    "preprints = []\n",
    "\n",
    "# Iterate over all query results\n",
    "for item in chain(*query.paginate(per_page=200, n_max=n_max)):\n",
    "    \n",
    "    # Get key properties\n",
    "    oa_id = item.get('id', None)\n",
    "    title = item.get('title', None)\n",
    "    publication_date = item.get('publication_date', None)\n",
    "    doi = item.get('doi', None)\n",
    "    cited_by_count = item.get('cited_by_count', None)\n",
    "    locations_count = item.get('locations_count', None)\n",
    "        \n",
    "    # Join all authors\n",
    "    authors = join_authors(item['authorships'])   \n",
    "    locations = item.get('locations', None)\n",
    "    locations_overview = join_locations(item['locations'])\n",
    "    \n",
    "    # Only append the paper to the preprints if is not published in any other journal\n",
    "    if locations_count == 1 or not is_any_location_published(locations):\n",
    "        preprints.append({'id': oa_id, 'title': title, 'publication_date': publication_date, 'doi': doi,\n",
    "                          'cited': cited_by_count, 'authors': authors,\n",
    "                          'locations': locations_overview, 'location_count': locations_count})\n"
   ]
  },
  {
   "cell_type": "markdown",
   "metadata": {},
   "source": [
    "## 4. Store the data"
   ]
  },
  {
   "cell_type": "code",
   "execution_count": null,
   "metadata": {},
   "outputs": [],
   "source": [
    "df = pd.DataFrame.from_dict(preprints)\n",
    "os.makedirs('./results', exist_ok=True)\n",
    "df.to_csv(f'./results/openalex_preprints_{year}_{n_max}.csv')\n",
    "df.head()"
   ]
  },
  {
   "cell_type": "markdown",
   "metadata": {},
   "source": [
    "## 5. Get a sample paper"
   ]
  },
  {
   "cell_type": "code",
   "execution_count": null,
   "metadata": {},
   "outputs": [],
   "source": [
    "paper = df.iloc[0]\n",
    "paper"
   ]
  },
  {
   "cell_type": "markdown",
   "metadata": {},
   "source": [
    "## 5. Do basic analysis\n",
    "\n",
    "TODO:\n",
    "- barchart with journals\n",
    "- barchart with publication year"
   ]
  }
 ],
 "metadata": {
  "interpreter": {
   "hash": "dacd09b87f275de77aaa2661dde3428b7c30cfb80959b39c223c1792ae834a1a"
  },
  "kernelspec": {
   "display_name": "research-recipies",
   "language": "python",
   "name": "venv"
  },
  "language_info": {
   "codemirror_mode": {
    "name": "ipython",
    "version": 3
   },
   "file_extension": ".py",
   "mimetype": "text/x-python",
   "name": "python",
   "nbconvert_exporter": "python",
   "pygments_lexer": "ipython3",
   "version": "3.12.3"
  }
 },
 "nbformat": 4,
 "nbformat_minor": 2
}
