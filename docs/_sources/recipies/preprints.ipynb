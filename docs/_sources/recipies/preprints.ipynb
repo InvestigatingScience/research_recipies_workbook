{
 "cells": [
  {
   "cell_type": "markdown",
   "metadata": {},
   "source": [
    "# Preprint Analysis\n",
    "## How to get all preprints of a topics?\n",
    "\n",
    "We use [OpenAlex](https://openalex.org) to retrieve all articles which are a preprint, but have so far not been published by a peer-reviewed journal."
   ]
  },
  {
   "cell_type": "markdown",
   "metadata": {},
   "source": [
    "## 1. Load libraries & define helper functions"
   ]
  },
  {
   "cell_type": "code",
   "execution_count": 1,
   "metadata": {},
   "outputs": [],
   "source": [
    "from pyalex import Works, Authors, Sources, Institutions, Concepts, Publishers, Funders\n",
    "from itertools import chain\n",
    "import pandas as pd\n",
    "import pyalex"
   ]
  },
  {
   "cell_type": "code",
   "execution_count": 2,
   "metadata": {},
   "outputs": [],
   "source": [
    "# Determine if any of the locations (journals) the paper is already published\n",
    "def is_any_location_published(locations):\n",
    "    for location in locations:\n",
    "        if location['version'] == 'publishedVersion':\n",
    "            return True\n",
    "    return False"
   ]
  },
  {
   "cell_type": "code",
   "execution_count": 3,
   "metadata": {},
   "outputs": [],
   "source": [
    "# Combine all authos\n",
    "def join_authors(list_of_authors):\n",
    "    return ', '.join([author['author']['display_name'] for author in list_of_authors])"
   ]
  },
  {
   "cell_type": "code",
   "execution_count": 4,
   "metadata": {},
   "outputs": [],
   "source": [
    "# Extract key information from the locations\n",
    "def join_locations(list_of_locations):\n",
    "    summary = []\n",
    "    for location in list_of_locations:\n",
    "        if location['source']:\n",
    "            summary.append(f\"{location['version']}: {location['source']['host_organization_name']} - {location['landing_page_url']}\")\n",
    "        else:\n",
    "            summary.append(f\"{location['version']} - {location['landing_page_url']}\")\n",
    "    return ', '.join(summary)"
   ]
  },
  {
   "cell_type": "markdown",
   "metadata": {},
   "source": [
    "## 2. Set the Topic & Year\n",
    "\n",
    "Set the year and the number of papers you want to obtain"
   ]
  },
  {
   "cell_type": "code",
   "execution_count": 18,
   "metadata": {},
   "outputs": [],
   "source": [
    "# Variables reduce the size of the output and the time required for execution\n",
    "topic = 'COVID'\n",
    "year = 2023\n",
    "n_max = 500        # when set to None all papers are queried"
   ]
  },
  {
   "cell_type": "markdown",
   "metadata": {},
   "source": [
    "## 3. Get the preprints\n",
    "\n",
    "Run te following code to get the preprints for the specified parameters"
   ]
  },
  {
   "cell_type": "code",
   "execution_count": 19,
   "metadata": {},
   "outputs": [],
   "source": [
    "query = Works().search(topic).filter(type=\"article\", publication_year=year, primary_location={'version': 'submittedVersion'}, locations={'is_published': False}).sort(cited_by_count=\"desc\")\n",
    "\n",
    "preprints = []\n",
    "\n",
    "# Iterate over all query results\n",
    "for item in chain(*query.paginate(per_page=200, n_max=n_max)):\n",
    "    \n",
    "    # Get key properties\n",
    "    oa_id = item.get('id', None)\n",
    "    title = item.get('title', None)\n",
    "    publication_date = item.get('publication_date', None)\n",
    "    doi = item.get('doi', None)\n",
    "    cited_by_count = item.get('cited_by_count', None)\n",
    "    locations_count = item.get('locations_count', None)\n",
    "        \n",
    "    # Join all authors\n",
    "    authors = join_authors(item['authorships'])   \n",
    "    locations = item.get('locations', None)\n",
    "    locations_overview = join_locations(item['locations'])\n",
    "    \n",
    "    # Only append the paper to the preprints if is not published in any other journal\n",
    "    if locations_count == 1 or not is_any_location_published(locations):\n",
    "        preprints.append({'id': oa_id, 'title': title, 'publication_date': publication_date, 'doi': doi,\n",
    "                          'cited': cited_by_count, 'authors': authors,\n",
    "                          'locations': locations_overview, 'location_count': locations_count})\n"
   ]
  },
  {
   "cell_type": "markdown",
   "metadata": {},
   "source": [
    "## 4. Store the data"
   ]
  },
  {
   "cell_type": "code",
   "execution_count": 20,
   "metadata": {},
   "outputs": [
    {
     "data": {
      "text/html": [
       "<div>\n",
       "<style scoped>\n",
       "    .dataframe tbody tr th:only-of-type {\n",
       "        vertical-align: middle;\n",
       "    }\n",
       "\n",
       "    .dataframe tbody tr th {\n",
       "        vertical-align: top;\n",
       "    }\n",
       "\n",
       "    .dataframe thead th {\n",
       "        text-align: right;\n",
       "    }\n",
       "</style>\n",
       "<table border=\"1\" class=\"dataframe\">\n",
       "  <thead>\n",
       "    <tr style=\"text-align: right;\">\n",
       "      <th></th>\n",
       "      <th>id</th>\n",
       "      <th>title</th>\n",
       "      <th>publication_date</th>\n",
       "      <th>doi</th>\n",
       "      <th>cited</th>\n",
       "      <th>authors</th>\n",
       "      <th>locations</th>\n",
       "      <th>location_count</th>\n",
       "    </tr>\n",
       "  </thead>\n",
       "  <tbody>\n",
       "    <tr>\n",
       "      <th>0</th>\n",
       "      <td>https://openalex.org/W4318909870</td>\n",
       "      <td>Overcoming Vaccine Skepticism in Pakistan: A C...</td>\n",
       "      <td>2023-02-02</td>\n",
       "      <td>https://doi.org/10.5281/zenodo.7597141</td>\n",
       "      <td>12</td>\n",
       "      <td>Bibi Aisha Sadiqa</td>\n",
       "      <td>submittedVersion: European Organization for Nu...</td>\n",
       "      <td>1</td>\n",
       "    </tr>\n",
       "    <tr>\n",
       "      <th>1</th>\n",
       "      <td>https://openalex.org/W4386199227</td>\n",
       "      <td>Clinical Rationale for SARS-CoV-2 Base Spike P...</td>\n",
       "      <td>2023-08-25</td>\n",
       "      <td>https://doi.org/10.5281/zenodo.8286460</td>\n",
       "      <td>5</td>\n",
       "      <td>Peter A. McCullough, Cade Wynn, Brian C Procter</td>\n",
       "      <td>submittedVersion: European Organization for Nu...</td>\n",
       "      <td>1</td>\n",
       "    </tr>\n",
       "    <tr>\n",
       "      <th>2</th>\n",
       "      <td>https://openalex.org/W3197911323</td>\n",
       "      <td>The Political Economy of a Modern Pandemic: As...</td>\n",
       "      <td>2023-07-24</td>\n",
       "      <td>https://doi.org/10.32920/23739360.v1</td>\n",
       "      <td>4</td>\n",
       "      <td>John Shields, Zainab Abu Alrob</td>\n",
       "      <td>submittedVersion - https://doi.org/10.32920/23...</td>\n",
       "      <td>2</td>\n",
       "    </tr>\n",
       "    <tr>\n",
       "      <th>3</th>\n",
       "      <td>https://openalex.org/W4307231237</td>\n",
       "      <td>Higher risk of short term COVID-19 vaccine adv...</td>\n",
       "      <td>2023-05-02</td>\n",
       "      <td>https://doi.org/10.1093/rheumatology/keac603</td>\n",
       "      <td>3</td>\n",
       "      <td>Mrinalini Dey, R Naveen, Elena Nikiphorou, Par...</td>\n",
       "      <td>submittedVersion: National Institutes of Healt...</td>\n",
       "      <td>1</td>\n",
       "    </tr>\n",
       "    <tr>\n",
       "      <th>4</th>\n",
       "      <td>https://openalex.org/W4319655309</td>\n",
       "      <td>Navigating the Post-COVID Market: A Prospectiv...</td>\n",
       "      <td>2023-02-09</td>\n",
       "      <td>https://doi.org/10.5281/zenodo.7625190</td>\n",
       "      <td>3</td>\n",
       "      <td>Peng Sun, Xiaode Zuo</td>\n",
       "      <td>submittedVersion: European Organization for Nu...</td>\n",
       "      <td>1</td>\n",
       "    </tr>\n",
       "  </tbody>\n",
       "</table>\n",
       "</div>"
      ],
      "text/plain": [
       "                                 id  \\\n",
       "0  https://openalex.org/W4318909870   \n",
       "1  https://openalex.org/W4386199227   \n",
       "2  https://openalex.org/W3197911323   \n",
       "3  https://openalex.org/W4307231237   \n",
       "4  https://openalex.org/W4319655309   \n",
       "\n",
       "                                               title publication_date  \\\n",
       "0  Overcoming Vaccine Skepticism in Pakistan: A C...       2023-02-02   \n",
       "1  Clinical Rationale for SARS-CoV-2 Base Spike P...       2023-08-25   \n",
       "2  The Political Economy of a Modern Pandemic: As...       2023-07-24   \n",
       "3  Higher risk of short term COVID-19 vaccine adv...       2023-05-02   \n",
       "4  Navigating the Post-COVID Market: A Prospectiv...       2023-02-09   \n",
       "\n",
       "                                            doi  cited  \\\n",
       "0        https://doi.org/10.5281/zenodo.7597141     12   \n",
       "1        https://doi.org/10.5281/zenodo.8286460      5   \n",
       "2          https://doi.org/10.32920/23739360.v1      4   \n",
       "3  https://doi.org/10.1093/rheumatology/keac603      3   \n",
       "4        https://doi.org/10.5281/zenodo.7625190      3   \n",
       "\n",
       "                                             authors  \\\n",
       "0                                  Bibi Aisha Sadiqa   \n",
       "1    Peter A. McCullough, Cade Wynn, Brian C Procter   \n",
       "2                     John Shields, Zainab Abu Alrob   \n",
       "3  Mrinalini Dey, R Naveen, Elena Nikiphorou, Par...   \n",
       "4                               Peng Sun, Xiaode Zuo   \n",
       "\n",
       "                                           locations  location_count  \n",
       "0  submittedVersion: European Organization for Nu...               1  \n",
       "1  submittedVersion: European Organization for Nu...               1  \n",
       "2  submittedVersion - https://doi.org/10.32920/23...               2  \n",
       "3  submittedVersion: National Institutes of Healt...               1  \n",
       "4  submittedVersion: European Organization for Nu...               1  "
      ]
     },
     "execution_count": 20,
     "metadata": {},
     "output_type": "execute_result"
    }
   ],
   "source": [
    "df = pd.DataFrame.from_dict(preprints)\n",
    "df.to_csv(f'../results/openalex_preprints_{year}_{n_max}.csv')\n",
    "df.to_excel(f'../results/openalex_preprints_{year}_{n_max}.xlsx')\n",
    "df.head()"
   ]
  },
  {
   "cell_type": "markdown",
   "metadata": {},
   "source": [
    "## 5. Get a sample paper"
   ]
  },
  {
   "cell_type": "code",
   "execution_count": 13,
   "metadata": {},
   "outputs": [
    {
     "data": {
      "text/plain": [
       "id                                   https://openalex.org/W1485155423\n",
       "title               For Hunger-proof Cities: Sustainable Urban Foo...\n",
       "publication_date                                           2023-09-05\n",
       "doi                              https://doi.org/10.32920/24084468.v1\n",
       "cited                                                             204\n",
       "authors             Mustafa Koç, Rod MacRae, L. J. A. Mougeot, J. ...\n",
       "locations           submittedVersion - https://doi.org/10.32920/24...\n",
       "location_count                                                      1\n",
       "Name: 0, dtype: object"
      ]
     },
     "execution_count": 13,
     "metadata": {},
     "output_type": "execute_result"
    }
   ],
   "source": [
    "paper = df.iloc[0]\n",
    "paper"
   ]
  },
  {
   "cell_type": "markdown",
   "metadata": {},
   "source": [
    "## 5. Do basic analysis\n",
    "\n",
    "TODO:\n",
    "- barchart with journals\n",
    "- barchart with publication year"
   ]
  }
 ],
 "metadata": {
  "interpreter": {
   "hash": "dacd09b87f275de77aaa2661dde3428b7c30cfb80959b39c223c1792ae834a1a"
  },
  "kernelspec": {
   "display_name": "research-recipies",
   "language": "python",
   "name": "venv"
  },
  "language_info": {
   "codemirror_mode": {
    "name": "ipython",
    "version": 3
   },
   "file_extension": ".py",
   "mimetype": "text/x-python",
   "name": "python",
   "nbconvert_exporter": "python",
   "pygments_lexer": "ipython3",
   "version": "3.12.3"
  }
 },
 "nbformat": 4,
 "nbformat_minor": 2
}
