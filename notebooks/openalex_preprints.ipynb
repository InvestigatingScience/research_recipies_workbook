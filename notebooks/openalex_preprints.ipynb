{
 "cells": [
  {
   "cell_type": "markdown",
   "metadata": {},
   "source": [
    "## How to get all preprints which have not been published in a journal yet?\n",
    "\n",
    "We use [OpenAlex](https://openalex.org) to retrieve all articles which are a preprint, but have so far not been published by a peer-reviewed journal."
   ]
  },
  {
   "cell_type": "code",
   "execution_count": null,
   "metadata": {},
   "outputs": [],
   "source": [
    "from pyalex import Works, Authors, Sources, Institutions, Concepts, Publishers, Funders\n",
    "from itertools import chain\n",
    "import pandas as pd\n",
    "import pyalex"
   ]
  },
  {
   "cell_type": "code",
   "execution_count": null,
   "metadata": {},
   "outputs": [],
   "source": [
    "# Variables reduce the size of the output and the time required for execution\n",
    "year = 2020\n",
    "n_max = None         # when set to None all papers are queried"
   ]
  },
  {
   "cell_type": "code",
   "execution_count": null,
   "metadata": {},
   "outputs": [],
   "source": [
    "query = Works().filter(type=\"article\", publication_year=year, primary_location={'version': 'submittedVersion'}).sort(cited_by_count=\"desc\")\n",
    "\n",
    "data = []\n",
    "for item in chain(*query.paginate(per_page=200, n_max=n_max)):\n",
    "    title = item.get('title', None)\n",
    "    publication_date = item.get('publication_date', None)\n",
    "    doi = item.get('doi', None)\n",
    "    cited_by_count = item.get('cited_by_count', None)\n",
    "    locations_count = item.get('locations_count', None)\n",
    "    host_organization_source = item.get('primary_location', {}).get('source', {})\n",
    "    host_organization = None\n",
    "    if host_organization_source:\n",
    "        host_organization = host_organization_source.get('display_name')\n",
    "    \n",
    "    data.append({'Title': title, 'Publication Date': publication_date, 'DOI': doi, 'Host Organization': host_organization, 'Cited by Count': cited_by_count, 'Locations Count': locations_count})\n",
    "\n",
    "df = pd.DataFrame.from_dict(data)\n",
    "df.to_csv(f'../results/openalex_preprints_{year}.csv')\n",
    "                "
   ]
  }
 ],
 "metadata": {
  "interpreter": {
   "hash": "dacd09b87f275de77aaa2661dde3428b7c30cfb80959b39c223c1792ae834a1a"
  },
  "kernelspec": {
   "display_name": "Python 3 (ipykernel)",
   "language": "python",
   "name": "python3"
  },
  "language_info": {
   "codemirror_mode": {
    "name": "ipython",
    "version": 3
   },
   "file_extension": ".py",
   "mimetype": "text/x-python",
   "name": "python",
   "nbconvert_exporter": "python",
   "pygments_lexer": "ipython3",
   "version": "3.11.4"
  }
 },
 "nbformat": 4,
 "nbformat_minor": 2
}
